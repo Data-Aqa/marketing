{
 "cells": [
  {
   "cell_type": "markdown",
   "id": "dc03ee78",
   "metadata": {},
   "source": [
    "## CuriosiDados 1 - Quais cidades mais produziram laranja nos últimos 45 anos?"
   ]
  },
  {
   "cell_type": "code",
   "execution_count": 1,
   "id": "bcd9e185",
   "metadata": {},
   "outputs": [],
   "source": [
    "# Importando bibliotecas\n",
    "\n",
    "import pandas as pd\n",
    "import numpy as np\n",
    "import matplotlib.pyplot as plt\n",
    "import basedosdados as bd\n",
    "import geobr"
   ]
  },
  {
   "cell_type": "markdown",
   "id": "b3ca02ba",
   "metadata": {},
   "source": [
    "### Avisos antes de continuar!\n",
    "\n",
    "As próximas 6 células foram usadas apenas para baixar os dados utilizados, então não é necessário instalar a biblioteca `basedosdados` (caso queira, fique a vontade! ela é **MUITO** útil para conseguir dados) e nem rodas as próximas células.\n",
    "\n",
    "A seção de <font color = 'blue'>Manipulação<font color = 'black'> tem um roteirinho a ser seguido. Ele não é longo, e muitas das coisas podem ser vistas em notebooks de aulas (caso não queira abrir os notebooks, eles estão todos no GitHub do grupo).\n",
    "\n",
    "A seção de <font color = 'blue'>Visualização<font color = 'black'> já está feita, mas recomendo tentar entender o que as linhas do código mudaram na visualização, isso ajuda bastante a lembrar como fazer as alterações."
   ]
  },
  {
   "cell_type": "code",
   "execution_count": null,
   "id": "bee60fc9",
   "metadata": {},
   "outputs": [],
   "source": [
    "# Baixando os dados de produção pela API da Base dos Dados\n",
    "query_sp = \"\"\"\n",
    "        SELECT *\n",
    "        FROM `basedosdados.br_ibge_pam.municipio_lavouras_permanentes`\n",
    "        WHERE sigla_uf = 'SP'\n",
    "        AND produto = 'Laranja'\n",
    "        \"\"\"\n",
    "\n",
    "df = bd.read_sql(query_sp, billing_project_id = 'projeto1-311803')"
   ]
  },
  {
   "cell_type": "code",
   "execution_count": null,
   "id": "960ac8a3",
   "metadata": {},
   "outputs": [],
   "source": [
    "# Salvando os dados como um arquivo csv\n",
    "df.to_csv('../prod_laranja_aqa/prod_laranja_sp.csv', index = False)"
   ]
  },
  {
   "cell_type": "code",
   "execution_count": null,
   "id": "5f1a8fd1",
   "metadata": {},
   "outputs": [],
   "source": [
    "bd.get_table_columns('br_bd_diretorios_brasil', 'municipio')"
   ]
  },
  {
   "cell_type": "code",
   "execution_count": null,
   "id": "f00421eb",
   "metadata": {},
   "outputs": [],
   "source": [
    "# Baixando dados para liguar o id do município ao nome do município\n",
    "\n",
    "query = \"\"\"\n",
    "        SELECT id_municipio, nome\n",
    "        FROM `basedosdados.br_bd_diretorios_brasil.municipio`\n",
    "        WHERE sigla_uf = 'SP'\n",
    "\"\"\"\n",
    "\n",
    "df_ids = bd.read_sql(query, billing_project_id = 'projeto1-311803')"
   ]
  },
  {
   "cell_type": "code",
   "execution_count": null,
   "id": "d70aad2f",
   "metadata": {},
   "outputs": [],
   "source": [
    "df_ids.head()"
   ]
  },
  {
   "cell_type": "code",
   "execution_count": null,
   "id": "896b379b",
   "metadata": {},
   "outputs": [],
   "source": [
    "df_ids.to_csv('../prod_laranja_aqa/relacao_id_nome.csv', index = False)"
   ]
  },
  {
   "cell_type": "markdown",
   "id": "890ddfca",
   "metadata": {},
   "source": [
    "<br>"
   ]
  },
  {
   "cell_type": "markdown",
   "id": "60717a53",
   "metadata": {},
   "source": [
    "<br>"
   ]
  },
  {
   "cell_type": "markdown",
   "id": "53168715",
   "metadata": {},
   "source": [
    "## Manipulação\n",
    "---\n",
    "Queremos encontrar os 10 municípios com maior produção de laranja ao longo da série (1974 - 2018)."
   ]
  },
  {
   "cell_type": "code",
   "execution_count": 3,
   "id": "f1144867",
   "metadata": {},
   "outputs": [],
   "source": [
    "# Leia o arquivo 'prod_laranja_sp.csv' e armazene em uma variável\n",
    "df = pd.read_csv('prod_laranja_sp.csv')"
   ]
  },
  {
   "cell_type": "markdown",
   "id": "8bb3010d",
   "metadata": {},
   "source": [
    "### `.group_by()`\n",
    "\n",
    "Agrupe a coluna `quantidade_produzida` por município e some as produções anuais e salvar em uma nova variável. A função deve retornar um objeto `pd.DataFrame` ao invés de um objeto `pd.Series`.\n",
    "\n",
    "<font size = 2>caso tenho dúvidas, lembre que quando queremos selecionar mais de uma coluna de um dataframe, utilizamos uma a seguinte sintaxe: `df[['coluna1', 'coluna2']]`, isso porque quando queremos ler mais de uma coluna, precisamos passa-las no formato de lista (tente selecionar duas colunas com apenas um par de colchetes, irá gerar um erro). Lembre também que as colunas de um dataframe podem ser interpretadas como listas. Dessa forma, quando usamos a notação `df[['coluna1']]` a saída é uma lista de listas, que o pandas transforma em um dataframe."
   ]
  },
  {
   "cell_type": "code",
   "execution_count": 4,
   "id": "938f0c04",
   "metadata": {},
   "outputs": [],
   "source": [
    "df_agrupado = df.groupby('id_municipio')[['quantidade_produzida']].sum()"
   ]
  },
  {
   "cell_type": "code",
   "execution_count": 5,
   "id": "150383fe",
   "metadata": {},
   "outputs": [
    {
     "data": {
      "text/html": [
       "<div>\n",
       "<style scoped>\n",
       "    .dataframe tbody tr th:only-of-type {\n",
       "        vertical-align: middle;\n",
       "    }\n",
       "\n",
       "    .dataframe tbody tr th {\n",
       "        vertical-align: top;\n",
       "    }\n",
       "\n",
       "    .dataframe thead th {\n",
       "        text-align: right;\n",
       "    }\n",
       "</style>\n",
       "<table border=\"1\" class=\"dataframe\">\n",
       "  <thead>\n",
       "    <tr style=\"text-align: right;\">\n",
       "      <th></th>\n",
       "      <th>quantidade_produzida</th>\n",
       "    </tr>\n",
       "    <tr>\n",
       "      <th>id_municipio</th>\n",
       "      <th></th>\n",
       "    </tr>\n",
       "  </thead>\n",
       "  <tbody>\n",
       "    <tr>\n",
       "      <th>3500105</th>\n",
       "      <td>207910.0</td>\n",
       "    </tr>\n",
       "    <tr>\n",
       "      <th>3500204</th>\n",
       "      <td>6223134.0</td>\n",
       "    </tr>\n",
       "    <tr>\n",
       "      <th>3500303</th>\n",
       "      <td>13174686.0</td>\n",
       "    </tr>\n",
       "    <tr>\n",
       "      <th>3500402</th>\n",
       "      <td>6140.0</td>\n",
       "    </tr>\n",
       "    <tr>\n",
       "      <th>3500501</th>\n",
       "      <td>47373.0</td>\n",
       "    </tr>\n",
       "  </tbody>\n",
       "</table>\n",
       "</div>"
      ],
      "text/plain": [
       "              quantidade_produzida\n",
       "id_municipio                      \n",
       "3500105                   207910.0\n",
       "3500204                  6223134.0\n",
       "3500303                 13174686.0\n",
       "3500402                     6140.0\n",
       "3500501                    47373.0"
      ]
     },
     "execution_count": 5,
     "metadata": {},
     "output_type": "execute_result"
    }
   ],
   "source": [
    "df_agrupado.head()"
   ]
  },
  {
   "cell_type": "markdown",
   "id": "1d30e04e",
   "metadata": {},
   "source": [
    "Transforme o índice do dataframa em uma coluna."
   ]
  },
  {
   "cell_type": "code",
   "execution_count": 6,
   "id": "f830f453",
   "metadata": {},
   "outputs": [],
   "source": [
    "# .reset_index()\n",
    "df_agrupado = df_agrupado.reset_index()"
   ]
  },
  {
   "cell_type": "code",
   "execution_count": 7,
   "id": "edb535b0",
   "metadata": {},
   "outputs": [
    {
     "data": {
      "text/html": [
       "<div>\n",
       "<style scoped>\n",
       "    .dataframe tbody tr th:only-of-type {\n",
       "        vertical-align: middle;\n",
       "    }\n",
       "\n",
       "    .dataframe tbody tr th {\n",
       "        vertical-align: top;\n",
       "    }\n",
       "\n",
       "    .dataframe thead th {\n",
       "        text-align: right;\n",
       "    }\n",
       "</style>\n",
       "<table border=\"1\" class=\"dataframe\">\n",
       "  <thead>\n",
       "    <tr style=\"text-align: right;\">\n",
       "      <th></th>\n",
       "      <th>id_municipio</th>\n",
       "      <th>quantidade_produzida</th>\n",
       "    </tr>\n",
       "  </thead>\n",
       "  <tbody>\n",
       "    <tr>\n",
       "      <th>0</th>\n",
       "      <td>3500105</td>\n",
       "      <td>207910.0</td>\n",
       "    </tr>\n",
       "    <tr>\n",
       "      <th>1</th>\n",
       "      <td>3500204</td>\n",
       "      <td>6223134.0</td>\n",
       "    </tr>\n",
       "    <tr>\n",
       "      <th>2</th>\n",
       "      <td>3500303</td>\n",
       "      <td>13174686.0</td>\n",
       "    </tr>\n",
       "    <tr>\n",
       "      <th>3</th>\n",
       "      <td>3500402</td>\n",
       "      <td>6140.0</td>\n",
       "    </tr>\n",
       "    <tr>\n",
       "      <th>4</th>\n",
       "      <td>3500501</td>\n",
       "      <td>47373.0</td>\n",
       "    </tr>\n",
       "  </tbody>\n",
       "</table>\n",
       "</div>"
      ],
      "text/plain": [
       "   id_municipio  quantidade_produzida\n",
       "0       3500105              207910.0\n",
       "1       3500204             6223134.0\n",
       "2       3500303            13174686.0\n",
       "3       3500402                6140.0\n",
       "4       3500501               47373.0"
      ]
     },
     "execution_count": 7,
     "metadata": {},
     "output_type": "execute_result"
    }
   ],
   "source": [
    "df_agrupado.head()"
   ]
  },
  {
   "cell_type": "markdown",
   "id": "7f7196f9",
   "metadata": {},
   "source": [
    "### Ordenar\n",
    "\n",
    "Ordene o dataframe pela coluna `quantidade_produzida` de forma decrescentea e armazene os **10 maiores** em uma nova variável"
   ]
  },
  {
   "cell_type": "code",
   "execution_count": 16,
   "id": "08cd7545",
   "metadata": {},
   "outputs": [],
   "source": [
    "# .sort_values()\n",
    "df_rank = df_agrupado.sort_values(by = 'quantidade_produzida', ascending = False).head(10)"
   ]
  },
  {
   "cell_type": "code",
   "execution_count": 17,
   "id": "181493f6",
   "metadata": {},
   "outputs": [
    {
     "data": {
      "text/html": [
       "<div>\n",
       "<style scoped>\n",
       "    .dataframe tbody tr th:only-of-type {\n",
       "        vertical-align: middle;\n",
       "    }\n",
       "\n",
       "    .dataframe tbody tr th {\n",
       "        vertical-align: top;\n",
       "    }\n",
       "\n",
       "    .dataframe thead th {\n",
       "        text-align: right;\n",
       "    }\n",
       "</style>\n",
       "<table border=\"1\" class=\"dataframe\">\n",
       "  <thead>\n",
       "    <tr style=\"text-align: right;\">\n",
       "      <th></th>\n",
       "      <th>id_municipio</th>\n",
       "      <th>quantidade_produzida</th>\n",
       "    </tr>\n",
       "  </thead>\n",
       "  <tbody>\n",
       "    <tr>\n",
       "      <th>68</th>\n",
       "      <td>3506102</td>\n",
       "      <td>83752164.0</td>\n",
       "    </tr>\n",
       "    <tr>\n",
       "      <th>341</th>\n",
       "      <td>3530706</td>\n",
       "      <td>79968458.0</td>\n",
       "    </tr>\n",
       "    <tr>\n",
       "      <th>257</th>\n",
       "      <td>3522703</td>\n",
       "      <td>58787985.0</td>\n",
       "    </tr>\n",
       "    <tr>\n",
       "      <th>379</th>\n",
       "      <td>3533908</td>\n",
       "      <td>58046131.0</td>\n",
       "    </tr>\n",
       "    <tr>\n",
       "      <th>300</th>\n",
       "      <td>3526902</td>\n",
       "      <td>51232119.0</td>\n",
       "    </tr>\n",
       "    <tr>\n",
       "      <th>349</th>\n",
       "      <td>3531506</td>\n",
       "      <td>42437903.0</td>\n",
       "    </tr>\n",
       "    <tr>\n",
       "      <th>36</th>\n",
       "      <td>3503208</td>\n",
       "      <td>41358768.0</td>\n",
       "    </tr>\n",
       "    <tr>\n",
       "      <th>591</th>\n",
       "      <td>3553708</td>\n",
       "      <td>41273923.0</td>\n",
       "    </tr>\n",
       "    <tr>\n",
       "      <th>122</th>\n",
       "      <td>3510807</td>\n",
       "      <td>38798969.0</td>\n",
       "    </tr>\n",
       "    <tr>\n",
       "      <th>62</th>\n",
       "      <td>3505500</td>\n",
       "      <td>33807413.0</td>\n",
       "    </tr>\n",
       "  </tbody>\n",
       "</table>\n",
       "</div>"
      ],
      "text/plain": [
       "     id_municipio  quantidade_produzida\n",
       "68        3506102            83752164.0\n",
       "341       3530706            79968458.0\n",
       "257       3522703            58787985.0\n",
       "379       3533908            58046131.0\n",
       "300       3526902            51232119.0\n",
       "349       3531506            42437903.0\n",
       "36        3503208            41358768.0\n",
       "591       3553708            41273923.0\n",
       "122       3510807            38798969.0\n",
       "62        3505500            33807413.0"
      ]
     },
     "execution_count": 17,
     "metadata": {},
     "output_type": "execute_result"
    }
   ],
   "source": [
    "df_rank"
   ]
  },
  {
   "cell_type": "markdown",
   "id": "1b16092e",
   "metadata": {},
   "source": [
    "Agora que temos um dataframe contendo os 10 maiores produtores de laranja do estado, precimos da uma maneira de mapear os ids aos nomes dos municípios.\n",
    "\n",
    "Leia o arquivo `relacao_id_nome.csv`."
   ]
  },
  {
   "cell_type": "code",
   "execution_count": 18,
   "id": "7c319122",
   "metadata": {},
   "outputs": [],
   "source": [
    "df_ids = pd.read_csv('relacao_id_nome.csv')"
   ]
  },
  {
   "cell_type": "code",
   "execution_count": 19,
   "id": "15c764e5",
   "metadata": {},
   "outputs": [
    {
     "data": {
      "text/html": [
       "<div>\n",
       "<style scoped>\n",
       "    .dataframe tbody tr th:only-of-type {\n",
       "        vertical-align: middle;\n",
       "    }\n",
       "\n",
       "    .dataframe tbody tr th {\n",
       "        vertical-align: top;\n",
       "    }\n",
       "\n",
       "    .dataframe thead th {\n",
       "        text-align: right;\n",
       "    }\n",
       "</style>\n",
       "<table border=\"1\" class=\"dataframe\">\n",
       "  <thead>\n",
       "    <tr style=\"text-align: right;\">\n",
       "      <th></th>\n",
       "      <th>id_municipio</th>\n",
       "      <th>nome</th>\n",
       "    </tr>\n",
       "  </thead>\n",
       "  <tbody>\n",
       "    <tr>\n",
       "      <th>0</th>\n",
       "      <td>3500105</td>\n",
       "      <td>Adamantina</td>\n",
       "    </tr>\n",
       "    <tr>\n",
       "      <th>1</th>\n",
       "      <td>3500204</td>\n",
       "      <td>Adolfo</td>\n",
       "    </tr>\n",
       "    <tr>\n",
       "      <th>2</th>\n",
       "      <td>3500303</td>\n",
       "      <td>Aguaí</td>\n",
       "    </tr>\n",
       "    <tr>\n",
       "      <th>3</th>\n",
       "      <td>3500402</td>\n",
       "      <td>Águas da Prata</td>\n",
       "    </tr>\n",
       "    <tr>\n",
       "      <th>4</th>\n",
       "      <td>3500501</td>\n",
       "      <td>Águas de Lindóia</td>\n",
       "    </tr>\n",
       "  </tbody>\n",
       "</table>\n",
       "</div>"
      ],
      "text/plain": [
       "   id_municipio              nome\n",
       "0       3500105        Adamantina\n",
       "1       3500204            Adolfo\n",
       "2       3500303             Aguaí\n",
       "3       3500402    Águas da Prata\n",
       "4       3500501  Águas de Lindóia"
      ]
     },
     "execution_count": 19,
     "metadata": {},
     "output_type": "execute_result"
    }
   ],
   "source": [
    "df_ids.head()"
   ]
  },
  {
   "cell_type": "markdown",
   "id": "61b03eeb",
   "metadata": {},
   "source": [
    "### `.merge()`\n",
    "\n",
    "A função `.merge()` funciona como o **PROCV** no excel. Com ela, nós podemos juntar duas tabelas por meio de uma coluna em comum.\n",
    "\n",
    "No nosso caso, temos dois dataframes: um contendo o o id e a produção dos 10 maiores produtores de laranja do estado e outro com o id e nome dos municipios de São Paulo. Vamos usar a função `.merge()` para junta-las.\n",
    "\n",
    "A função recebe 4 argumentos principais: `left`, `right`, `on` e `how`. Os dois primeiros indicam quais dataframes serão utilizados. Por convenção a tabela da esquerda é a tabela que queremos adicionar a coluna, enquanto a da direita é a que vai 'ceder' a coluna.\n",
    "\n",
    "O argumento `on` indica qual coluna dos dataframes será utilizada como *link* (coluna em comum).\n",
    "\n",
    "**OBS**: caso as colunas tenham nomes diferentes nos dataframes, devemos utilizar os argumentos `left_on` e `right_on` para indicar os nomes em cada dataframe.\n",
    "\n",
    "Por último, o argumento `how` indica qual será o método utilizado para realizar a junção. Por padrão este argumento é `'inner'`, que indica que queremos trazer apenas as linhas da tabela da direita que tem correspondência na tabela da direita."
   ]
  },
  {
   "cell_type": "code",
   "execution_count": 20,
   "id": "7c786610",
   "metadata": {},
   "outputs": [],
   "source": [
    "df_nomes = pd.merge(left = df_rank, right = df_ids, on = 'id_municipio', how = 'inner')"
   ]
  },
  {
   "cell_type": "code",
   "execution_count": 21,
   "id": "b6eb78a7",
   "metadata": {},
   "outputs": [
    {
     "data": {
      "text/html": [
       "<div>\n",
       "<style scoped>\n",
       "    .dataframe tbody tr th:only-of-type {\n",
       "        vertical-align: middle;\n",
       "    }\n",
       "\n",
       "    .dataframe tbody tr th {\n",
       "        vertical-align: top;\n",
       "    }\n",
       "\n",
       "    .dataframe thead th {\n",
       "        text-align: right;\n",
       "    }\n",
       "</style>\n",
       "<table border=\"1\" class=\"dataframe\">\n",
       "  <thead>\n",
       "    <tr style=\"text-align: right;\">\n",
       "      <th></th>\n",
       "      <th>id_municipio</th>\n",
       "      <th>quantidade_produzida</th>\n",
       "      <th>nome</th>\n",
       "    </tr>\n",
       "  </thead>\n",
       "  <tbody>\n",
       "    <tr>\n",
       "      <th>0</th>\n",
       "      <td>3506102</td>\n",
       "      <td>83752164.0</td>\n",
       "      <td>Bebedouro</td>\n",
       "    </tr>\n",
       "    <tr>\n",
       "      <th>1</th>\n",
       "      <td>3530706</td>\n",
       "      <td>79968458.0</td>\n",
       "      <td>Mogi Guaçu</td>\n",
       "    </tr>\n",
       "    <tr>\n",
       "      <th>2</th>\n",
       "      <td>3522703</td>\n",
       "      <td>58787985.0</td>\n",
       "      <td>Itápolis</td>\n",
       "    </tr>\n",
       "    <tr>\n",
       "      <th>3</th>\n",
       "      <td>3533908</td>\n",
       "      <td>58046131.0</td>\n",
       "      <td>Olímpia</td>\n",
       "    </tr>\n",
       "    <tr>\n",
       "      <th>4</th>\n",
       "      <td>3526902</td>\n",
       "      <td>51232119.0</td>\n",
       "      <td>Limeira</td>\n",
       "    </tr>\n",
       "  </tbody>\n",
       "</table>\n",
       "</div>"
      ],
      "text/plain": [
       "   id_municipio  quantidade_produzida        nome\n",
       "0       3506102            83752164.0   Bebedouro\n",
       "1       3530706            79968458.0  Mogi Guaçu\n",
       "2       3522703            58787985.0    Itápolis\n",
       "3       3533908            58046131.0     Olímpia\n",
       "4       3526902            51232119.0     Limeira"
      ]
     },
     "execution_count": 21,
     "metadata": {},
     "output_type": "execute_result"
    }
   ],
   "source": [
    "df_nomes.head()"
   ]
  },
  {
   "cell_type": "markdown",
   "id": "d7bd36e8",
   "metadata": {},
   "source": [
    "## Visualizações"
   ]
  },
  {
   "cell_type": "markdown",
   "id": "3e1748c9",
   "metadata": {},
   "source": [
    "### Ranking"
   ]
  },
  {
   "cell_type": "code",
   "execution_count": 22,
   "id": "52af8621",
   "metadata": {},
   "outputs": [
    {
     "data": {
      "image/png": "[encoded data removed]",
      "text/plain": [
       "<Figure size 648x504 with 1 Axes>"
      ]
     },
     "metadata": {
      "needs_background": "light"
     },
     "output_type": "display_data"
    }
   ],
   "source": [
    "# Definindo o padrão das fontes\n",
    "plt.rcParams[\"font.family\"] = 'serif'\n",
    "\n",
    "# Criando objetos da figura e eixo\n",
    "fig, ax = plt.subplots(figsize = (9,7))\n",
    "\n",
    "# Plotando\n",
    "barras = ax.barh(y = df_nomes.index, width = df_nomes['quantidade_produzida'], color = '#1F77B4')\n",
    "ax.invert_yaxis()\n",
    "\n",
    "# Título\n",
    "ax.set_title('10 maiores produtores de laranja no estado de SP (1974 - 2018)', fontsize = 15, loc = 'left')\n",
    "\n",
    "# Eixo y\n",
    "ax.set_yticks(np.arange(0,10))\n",
    "ax.set_yticklabels(df_nomes['nome'])\n",
    "\n",
    "# Eixo x\n",
    "xtick_labels = np.arange(0, 90, step = 10)\n",
    "ax.set_xticklabels(xtick_labels)\n",
    "ax.set_xlabel('Produção (bilhões de toneladas)', fontsize = 13)\n",
    "\n",
    "# Spines\n",
    "spines = ['left', 'right', 'top']\n",
    "for spine in spines:\n",
    "    ax.spines[spine].set_visible(False)\n",
    "    \n",
    "# Valor da produção na frente da barra\n",
    "for barra in barras:\n",
    "    largura = barra.get_width()\n",
    "    ax.text(x = largura + 1000000, y = barra.get_y() + barra.get_height()/2, s = round(largura / 1000000, 2))\n",
    "    \n",
    "# Coluna Araraquara\n",
    "barras[6].set_color('darkorange')\n",
    "\n",
    "plt.show()"
   ]
  },
  {
   "cell_type": "code",
   "execution_count": 27,
   "id": "513b38f7",
   "metadata": {},
   "outputs": [],
   "source": [
    "fig.savefig('ranking_cidades.jpg', edgecolor='none', bbox_inches = 'tight', facecolor = fig.get_facecolor())"
   ]
  }
 ],
 "metadata": {
  "kernelspec": {
   "display_name": "Python 3 (ipykernel)",
   "language": "python",
   "name": "python3"
  },
  "language_info": {
   "codemirror_mode": {
    "name": "ipython",
    "version": 3
   },
   "file_extension": ".py",
   "mimetype": "text/x-python",
   "name": "python",
   "nbconvert_exporter": "python",
   "pygments_lexer": "ipython3",
   "version": "3.7.3"
  }
 },
 "nbformat": 4,
 "nbformat_minor": 5
}
