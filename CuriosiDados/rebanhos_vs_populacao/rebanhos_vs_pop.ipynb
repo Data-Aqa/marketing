{
 "cells": [
  {
   "cell_type": "code",
   "execution_count": 1,
   "id": "e3b80c4c",
   "metadata": {},
   "outputs": [],
   "source": [
    "import pandas as pd\n",
    "import numpy as np\n",
    "import matplotlib.pyplot as plt"
   ]
  },
  {
   "cell_type": "code",
   "execution_count": 2,
   "id": "43ca513a",
   "metadata": {},
   "outputs": [],
   "source": [
    "pop = pd.read_csv('pop.csv')\n",
    "reb = pd.read_csv('rebanhos.csv')"
   ]
  },
  {
   "cell_type": "code",
   "execution_count": 3,
   "id": "5008f118",
   "metadata": {},
   "outputs": [
    {
     "data": {
      "text/html": [
       "<div>\n",
       "<style scoped>\n",
       "    .dataframe tbody tr th:only-of-type {\n",
       "        vertical-align: middle;\n",
       "    }\n",
       "\n",
       "    .dataframe tbody tr th {\n",
       "        vertical-align: top;\n",
       "    }\n",
       "\n",
       "    .dataframe thead th {\n",
       "        text-align: right;\n",
       "    }\n",
       "</style>\n",
       "<table border=\"1\" class=\"dataframe\">\n",
       "  <thead>\n",
       "    <tr style=\"text-align: right;\">\n",
       "      <th></th>\n",
       "      <th>ano</th>\n",
       "      <th>sigla_uf</th>\n",
       "      <th>id_municipio</th>\n",
       "      <th>populacao</th>\n",
       "    </tr>\n",
       "  </thead>\n",
       "  <tbody>\n",
       "    <tr>\n",
       "      <th>0</th>\n",
       "      <td>2017</td>\n",
       "      <td>RO</td>\n",
       "      <td>1100015</td>\n",
       "      <td>25437</td>\n",
       "    </tr>\n",
       "    <tr>\n",
       "      <th>1</th>\n",
       "      <td>2017</td>\n",
       "      <td>RO</td>\n",
       "      <td>1100023</td>\n",
       "      <td>107345</td>\n",
       "    </tr>\n",
       "    <tr>\n",
       "      <th>2</th>\n",
       "      <td>2017</td>\n",
       "      <td>RO</td>\n",
       "      <td>1100031</td>\n",
       "      <td>6224</td>\n",
       "    </tr>\n",
       "    <tr>\n",
       "      <th>3</th>\n",
       "      <td>2017</td>\n",
       "      <td>RO</td>\n",
       "      <td>1100049</td>\n",
       "      <td>88507</td>\n",
       "    </tr>\n",
       "    <tr>\n",
       "      <th>4</th>\n",
       "      <td>2017</td>\n",
       "      <td>RO</td>\n",
       "      <td>1100056</td>\n",
       "      <td>17934</td>\n",
       "    </tr>\n",
       "  </tbody>\n",
       "</table>\n",
       "</div>"
      ],
      "text/plain": [
       "    ano sigla_uf  id_municipio  populacao\n",
       "0  2017       RO       1100015      25437\n",
       "1  2017       RO       1100023     107345\n",
       "2  2017       RO       1100031       6224\n",
       "3  2017       RO       1100049      88507\n",
       "4  2017       RO       1100056      17934"
      ]
     },
     "execution_count": 3,
     "metadata": {},
     "output_type": "execute_result"
    }
   ],
   "source": [
    "pop.head()"
   ]
  },
  {
   "cell_type": "code",
   "execution_count": 4,
   "id": "de1cf51c",
   "metadata": {},
   "outputs": [
    {
     "data": {
      "text/html": [
       "<div>\n",
       "<style scoped>\n",
       "    .dataframe tbody tr th:only-of-type {\n",
       "        vertical-align: middle;\n",
       "    }\n",
       "\n",
       "    .dataframe tbody tr th {\n",
       "        vertical-align: top;\n",
       "    }\n",
       "\n",
       "    .dataframe thead th {\n",
       "        text-align: right;\n",
       "    }\n",
       "</style>\n",
       "<table border=\"1\" class=\"dataframe\">\n",
       "  <thead>\n",
       "    <tr style=\"text-align: right;\">\n",
       "      <th></th>\n",
       "      <th>sigla_uf</th>\n",
       "      <th>id_municipio</th>\n",
       "      <th>quantidade_bovinos_total</th>\n",
       "    </tr>\n",
       "  </thead>\n",
       "  <tbody>\n",
       "    <tr>\n",
       "      <th>0</th>\n",
       "      <td>RO</td>\n",
       "      <td>1100015</td>\n",
       "      <td>319811</td>\n",
       "    </tr>\n",
       "    <tr>\n",
       "      <th>1</th>\n",
       "      <td>RO</td>\n",
       "      <td>1100023</td>\n",
       "      <td>317996</td>\n",
       "    </tr>\n",
       "    <tr>\n",
       "      <th>2</th>\n",
       "      <td>RO</td>\n",
       "      <td>1100031</td>\n",
       "      <td>113277</td>\n",
       "    </tr>\n",
       "    <tr>\n",
       "      <th>3</th>\n",
       "      <td>RO</td>\n",
       "      <td>1100049</td>\n",
       "      <td>312990</td>\n",
       "    </tr>\n",
       "    <tr>\n",
       "      <th>4</th>\n",
       "      <td>RO</td>\n",
       "      <td>1100056</td>\n",
       "      <td>109292</td>\n",
       "    </tr>\n",
       "  </tbody>\n",
       "</table>\n",
       "</div>"
      ],
      "text/plain": [
       "  sigla_uf  id_municipio  quantidade_bovinos_total\n",
       "0       RO       1100015                    319811\n",
       "1       RO       1100023                    317996\n",
       "2       RO       1100031                    113277\n",
       "3       RO       1100049                    312990\n",
       "4       RO       1100056                    109292"
      ]
     },
     "execution_count": 4,
     "metadata": {},
     "output_type": "execute_result"
    }
   ],
   "source": [
    "reb.head()"
   ]
  },
  {
   "cell_type": "code",
   "execution_count": null,
   "id": "f0b5475a",
   "metadata": {},
   "outputs": [],
   "source": []
  }
 ],
 "metadata": {
  "kernelspec": {
   "display_name": "Python 3 (ipykernel)",
   "language": "python",
   "name": "python3"
  },
  "language_info": {
   "codemirror_mode": {
    "name": "ipython",
    "version": 3
   },
   "file_extension": ".py",
   "mimetype": "text/x-python",
   "name": "python",
   "nbconvert_exporter": "python",
   "pygments_lexer": "ipython3",
   "version": "3.7.3"
  }
 },
 "nbformat": 4,
 "nbformat_minor": 5
}
